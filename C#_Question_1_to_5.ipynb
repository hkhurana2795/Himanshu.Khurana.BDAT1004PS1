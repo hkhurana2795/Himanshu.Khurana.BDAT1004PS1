{
 "cells": [
  {
   "cell_type": "code",
   "execution_count": null,
   "id": "2203e6cb",
   "metadata": {},
   "outputs": [],
   "source": [
    "# Question 1:\n",
    "\n",
    "What data type is each of the following?\n",
    "\n",
    "5 -> Integer  \n",
    "5.0 -> Float  \n",
    "5 > 1 -> Boolean  \n",
    "'5' -> char  \n",
    "5 * 2 -> Integer  \n",
    "'5' * 2 -> String  \n",
    "'5' + '2' -> String  \n",
    "5 / 2 -> Float  \n",
    "5 % 2 -> Integer  \n",
    "{5, 2, 1} -> Array  \n",
    "5 == 3 -> Boolean  \n",
    "Pi (the number) - Double  "
   ]
  },
  {
   "cell_type": "code",
   "execution_count": null,
   "id": "a4fd2a0f",
   "metadata": {},
   "outputs": [],
   "source": [
    "Question 2 C#\n",
    "Write (and evaluate) C# expressions that answer these questions:\n",
    "a. How many letters are there in 'Supercalifragilisticexpialidocious'?"
   ]
  },
  {
   "cell_type": "code",
   "execution_count": 4,
   "id": "38b743a6",
   "metadata": {},
   "outputs": [
    {
     "name": "stdout",
     "output_type": "stream",
     "text": [
      "34\r\n"
     ]
    }
   ],
   "source": [
    "string word = \"Supercalifragilisticexpialidocious\";\n",
    "int letterCount = word.Length;\n",
    "Console.WriteLine(letterCount);"
   ]
  },
  {
   "cell_type": "code",
   "execution_count": null,
   "id": "535699af",
   "metadata": {},
   "outputs": [],
   "source": [
    "b. Does 'Supercalifragilisticexpialidocious' contain 'ice' as a substring?"
   ]
  },
  {
   "cell_type": "code",
   "execution_count": 5,
   "id": "a0fb24d1",
   "metadata": {},
   "outputs": [
    {
     "name": "stdout",
     "output_type": "stream",
     "text": [
      "Contains 'ice': True\r\n"
     ]
    }
   ],
   "source": [
    "string word = \"Supercalifragilisticexpialidocious\";\n",
    "bool contIce = word.Contains(\"ice\");\n",
    "Console.WriteLine(\"Contains 'ice': \" + contIce);"
   ]
  },
  {
   "cell_type": "code",
   "execution_count": null,
   "id": "7ea9147e",
   "metadata": {},
   "outputs": [],
   "source": [
    "c. Which of the following words is the longest:\n",
    "Supercalifragilisticexpialidocious, Honorificabilitudinitatibus, or\n",
    "Bababadalgharaghtakamminarronnkonn?"
   ]
  },
  {
   "cell_type": "code",
   "execution_count": 9,
   "id": "92728ece",
   "metadata": {},
   "outputs": [
    {
     "name": "stdout",
     "output_type": "stream",
     "text": [
      "Longest word amonst three is : Supercalifragilisticexpialidocious\r\n"
     ]
    }
   ],
   "source": [
    "string word1 = \"Supercalifragilisticexpialidocious\";\n",
    "string word2 = \"Honorificabilitudinitatibus\";\n",
    "string word3 = \"Bababadalgharaghtakamminarronnkonn\";\n",
    "\n",
    "string longestWord = word1;\n",
    "\n",
    "if (word2.Length > longestWord.Length)\n",
    "{\n",
    "    longestWord = word2;\n",
    "}\n",
    "\n",
    "if (word3.Length > longestWord.Length)\n",
    "{\n",
    "    longestWord = word3;\n",
    "}\n",
    "\n",
    "Console.WriteLine(\"Longest word amonst three is : \" + longestWord);\n"
   ]
  },
  {
   "cell_type": "code",
   "execution_count": null,
   "id": "76457e15",
   "metadata": {},
   "outputs": [],
   "source": [
    "d. Which composer comes first in the dictionary: 'Berlioz', 'Borodin', 'Brian',\n",
    "'Bartok', 'Bellini', 'Buxtehude', 'Bernstein'. Which one comes last?"
   ]
  },
  {
   "cell_type": "code",
   "execution_count": 21,
   "id": "52869f58",
   "metadata": {},
   "outputs": [
    {
     "name": "stdout",
     "output_type": "stream",
     "text": [
      "First composer in the dictionary: Bartok\n",
      "Last composer in the dictionary: Buxtehude\n"
     ]
    }
   ],
   "source": [
    "string[] composers_l = { \"Berlioz\", \"Borodin\", \"Brian\", \"Bartok\", \"Bellini\", \"Buxtehude\", \"Bernstein\" };\n",
    "\n",
    "Array.Sort(composers_l);\n",
    "\n",
    "string first_Composer = composers_l[0];\n",
    "string last_Composer = composers_l[composers_l.Length - 1];\n",
    "\n",
    "Console.WriteLine(\"First composer in the dictionary: \" + first_Composer);\n",
    "Console.WriteLine(\"Last composer in the dictionary: \" + last_Composer);\n"
   ]
  },
  {
   "cell_type": "code",
   "execution_count": null,
   "id": "eb9dc31a",
   "metadata": {},
   "outputs": [],
   "source": [
    "Question 3 C#\n",
    "Implement function triangleArea(a,b,c) that takes as input the lengths of the 3\n",
    "sides of a triangle and returns the area of the triangle. By Heron's formula, the area\n",
    "of a triangle with side lengths a, b, and c is s(s − a)(s −b)(s −c), where\n",
    "s = (a + b + c)/2.\n",
    ">>> triangleArea(2,2,2)\n",
    "1.7320508075688772\n"
   ]
  },
  {
   "cell_type": "code",
   "execution_count": 38,
   "id": "6e76bb37",
   "metadata": {},
   "outputs": [
    {
     "data": {
      "text/plain": [
       "1.7320508075688772"
      ]
     },
     "execution_count": 38,
     "metadata": {},
     "output_type": "execute_result"
    }
   ],
   "source": [
    "double TriangleArea(double a,double b,double c)\n",
    "{\n",
    "    double s = (a + b + c)/2;\n",
    "    double area = Math.Sqrt(s*(s-a)*(s-b)*(s-c));\n",
    "    return area;\n",
    "}\n",
    "\n",
    "TriangleArea (2,2,2)\n"
   ]
  },
  {
   "cell_type": "code",
   "execution_count": null,
   "id": "fe6bc456",
   "metadata": {},
   "outputs": [],
   "source": [
    "Question 4 C#\n",
    "Write a program in C# Sharp to separate odd and even integers in separate arrays.\n",
    "Go to the editor\n",
    "Test Data :\n",
    "Input the number of elements to be stored in the array :5\n",
    "Input 5 elements in the array :\n",
    "element - 0 : 25\n",
    "element - 1 : 47\n",
    "element - 2 : 42\n",
    "element - 3 : 56\n",
    "element - 4 : 32\n",
    "Expected Output:\n",
    "The Even elements are:\n",
    "42 56 32\n",
    "The Odd elements are :\n",
    "B\n",
    "25 47\n",
    "\n",
    "//Please run the below mentioned code in visual studio in order to generate output without error.\n",
    "//Please refer the attached screenshot in assignment for the output."
   ]
  },
  {
   "cell_type": "code",
   "execution_count": 61,
   "id": "b21950b1",
   "metadata": {},
   "outputs": [],
   "source": [
    "Console.Write($\"Enter the number of values required to be stored: \");\n",
    "int array_Length = int.Parse(Console.ReadLine());\n",
    "int[] even = new int[array_Length];\n",
    "int evenCount = 0;\n",
    "int[] odd = new int[array_Length];\n",
    "int[] number = new int[array_Length];\n",
    "int inpt_Num;\n",
    "int oddCount = 0;\n",
    "\n",
    "for (int i = 0; i < array_Length; i++)\n",
    "{\n",
    "    Console.Write($\"\\n Enter the value of the Index {i}:\");\n",
    "    inpt_Num = int.Parse(Console.ReadLine());\n",
    "    number[i] = inpt_Num;\n",
    "}\n",
    "foreach (int n in number)\n",
    "{\n",
    "    if (n % 2 == 0)\n",
    "    {\n",
    "        even[evenCount] = n;\n",
    "        evenCount++;\n",
    "    }\n",
    "    else\n",
    "    {\n",
    "        odd[oddCount] = n;\n",
    "        oddCount++;\n",
    "    }\n",
    "}\n",
    "\n",
    "Console.WriteLine(\"\\n Set of even numbers are:\");\n",
    "\n",
    "for (int i = 0; i < evenCount; i++)\n",
    "{\n",
    "    Console.Write(even[i] + \"  \");\n",
    "}\n",
    "Console.WriteLine(\"\\n Set of odd numbers are:\");\n",
    "\n",
    "for (int i = 0; i < oddCount; i++)\n",
    "{\n",
    "\n",
    "    Console.Write(odd[i] + \"  \");\n",
    "}\n",
    "\n",
    "//Please run the below mentioned code in visual studio in order to generate output without error.\n",
    "//Please refer the attached screenshot in assignment for the output."
   ]
  },
  {
   "cell_type": "code",
   "execution_count": null,
   "id": "c5319e31",
   "metadata": {},
   "outputs": [],
   "source": [
    "# Question 5:\n",
    "\n",
    "a. Write a function inside(x,y,x1,y1,x2,y2) that returns True or False depending on whether the point (x,y) lies in the rectangle with lower left corner (x1,y1) and upper right corner (x2,y2).  \n",
    "\n",
    ".>>> inside(1,1,0,0,2,3)  \n",
    "True\n",
    ".>>> inside(-1,-1,0,0,2,3)\n",
    "False\n",
    "b. Use function inside() from part a. to write an expression that tests whether the point (1,1) lies in both of the following rectangles: one with lower left corner (0.3, 0.5) and upper right corner (1.1, 0.7) and the other with lower left corner (0.5, 0.2) and upper right corner (1.1, 2).\n"
   ]
  },
  {
   "cell_type": "code",
   "execution_count": 50,
   "id": "7e611375",
   "metadata": {},
   "outputs": [
    {
     "data": {
      "text/plain": [
       "True"
      ]
     },
     "execution_count": 50,
     "metadata": {},
     "output_type": "execute_result"
    }
   ],
   "source": [
    "// Solution a\n",
    "\n",
    "bool ins(double x,double y,double x1,double y1,double x2,double y2)\n",
    "{\n",
    "    if(x1<x && x<x2)\n",
    "    {\n",
    "        if(y1<y && y<y2)\n",
    "        {\n",
    "            return true;\n",
    "        }\n",
    "    }\n",
    "    return false;\n",
    "}\n",
    "\n",
    "ins (1,1,0,0,2,3)\n",
    "\n",
    "\n",
    "\n"
   ]
  },
  {
   "cell_type": "code",
   "execution_count": 49,
   "id": "b8f9bfa8",
   "metadata": {},
   "outputs": [
    {
     "data": {
      "text/plain": [
       "False"
      ]
     },
     "execution_count": 49,
     "metadata": {},
     "output_type": "execute_result"
    }
   ],
   "source": [
    "// Solution a - 2nd test case \n",
    "bool ins(double x,double y,double x1,double y1,double x2,double y2)\n",
    "{\n",
    "    if(x1<x && x<x2)\n",
    "    {\n",
    "        if(y1<y && y<y2)\n",
    "        {\n",
    "            return true;\n",
    "        }\n",
    "    }\n",
    "    return false;\n",
    "}\n",
    "\n",
    "ins (-1,-1,0,0,2,3)"
   ]
  },
  {
   "cell_type": "code",
   "execution_count": 53,
   "id": "87cc246d",
   "metadata": {},
   "outputs": [
    {
     "data": {
      "text/plain": [
       "False"
      ]
     },
     "execution_count": 53,
     "metadata": {},
     "output_type": "execute_result"
    }
   ],
   "source": [
    "// Solution for b\n",
    "\n",
    "bool Chk_Both_Rect(double x,double y)\n",
    "{\n",
    "    bool ins_First_Rect = inside(x,y,0.3,0.5,1.1,0.7);\n",
    "    bool ins_Second_Rect = inside(x,y,0.5,0.2,1.1,2);\n",
    "    return ins_First_Rect && ins_Second_Rect;\n",
    "}\n",
    "\n",
    "\n",
    "Chk_Both_Rect (1,1)"
   ]
  },
  {
   "cell_type": "code",
   "execution_count": null,
   "id": "884333ae",
   "metadata": {},
   "outputs": [],
   "source": []
  }
 ],
 "metadata": {
  "kernelspec": {
   "display_name": ".NET (C#)",
   "language": "C#",
   "name": ".net-csharp"
  },
  "language_info": {
   "file_extension": ".cs",
   "mimetype": "text/x-csharp",
   "name": "C#",
   "pygments_lexer": "csharp",
   "version": "8.0"
  }
 },
 "nbformat": 4,
 "nbformat_minor": 5
}
